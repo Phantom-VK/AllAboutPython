{
 "cells": [
  {
   "cell_type": "code",
   "execution_count": 1,
   "id": "a2135b24-c38d-4c79-830a-8f0365dbd34a",
   "metadata": {},
   "outputs": [
    {
     "name": "stdout",
     "output_type": "stream",
     "text": [
      "Requirement already satisfied: nltk in /home/vikramaditya/micromamba/lib/python3.9/site-packages (3.9.1)\n",
      "Requirement already satisfied: click in /home/vikramaditya/micromamba/lib/python3.9/site-packages (from nltk) (8.1.8)\n",
      "Requirement already satisfied: joblib in /home/vikramaditya/micromamba/lib/python3.9/site-packages (from nltk) (1.4.2)\n",
      "Requirement already satisfied: regex>=2021.8.3 in /home/vikramaditya/micromamba/lib/python3.9/site-packages (from nltk) (2024.11.6)\n",
      "Requirement already satisfied: tqdm in /home/vikramaditya/micromamba/lib/python3.9/site-packages (from nltk) (4.66.4)\n"
     ]
    }
   ],
   "source": [
    "!pip install nltk"
   ]
  },
  {
   "cell_type": "code",
   "execution_count": 4,
   "id": "2befce71-3e44-48e2-be7e-f6cc599dc5d7",
   "metadata": {},
   "outputs": [],
   "source": [
    "## Corpus means paragraph\n",
    "corpus = \"\"\"A good example of a paragraph contains a topic sentence, details and a conclusion. \n",
    "'There are many different kinds of animals that live in China. Tigers and leopards are animals that live in China's forests in the north.\n",
    "In the jungles, monkeys swing in the trees and elephants walk through the brush.\n",
    "\"\"\""
   ]
  },
  {
   "cell_type": "code",
   "execution_count": 8,
   "id": "5d7c448d-f3b8-4372-b284-7330edee4517",
   "metadata": {},
   "outputs": [
    {
     "data": {
      "text/plain": [
       "['A good example of a paragraph contains a topic sentence, details and a conclusion.',\n",
       " \"'There are many different kinds of animals that live in China.\",\n",
       " \"Tigers and leopards are animals that live in China's forests in the north.\",\n",
       " 'In the jungles, monkeys swing in the trees and elephants walk through the brush.']"
      ]
     },
     "execution_count": 8,
     "metadata": {},
     "output_type": "execute_result"
    }
   ],
   "source": [
    "##Paragraph ---> Sentences\n",
    "from nltk.tokenize import sent_tokenize\n",
    "documents = sent_tokenize(corpus)\n",
    "documents"
   ]
  },
  {
   "cell_type": "code",
   "execution_count": null,
   "id": "7be541a6-2919-4416-babe-a132a64f797e",
   "metadata": {},
   "outputs": [],
   "source": [
    "## Paragraph ---> Words\n",
    "from nltk.tokenize import word_tokenize\n",
    "word_tokenize(corpus)"
   ]
  },
  {
   "cell_type": "code",
   "execution_count": null,
   "id": "25b0ff64-181e-46e0-b19c-ef70acf2e044",
   "metadata": {},
   "outputs": [],
   "source": [
    "from nltk.tokenize import wordpunct_tokenize\n",
    "#Split at punctuations like apostrophee too\n",
    "wordpunct_tokenize(corpus)"
   ]
  },
  {
   "cell_type": "code",
   "execution_count": null,
   "id": "dc9c572e-2132-4cda-b753-b1f02b5def75",
   "metadata": {},
   "outputs": [],
   "source": [
    "from nltk.tokenize import TreebankWordTokenizer\n",
    "## Fullstop will be not separated as separate word, but at last, it will\n",
    "tokenizer = TreebankWordTokenizer()\n",
    "tokenizer.tokenize(corpus)"
   ]
  },
  {
   "cell_type": "code",
   "execution_count": null,
   "id": "c3951848-aebb-426d-8b5f-39c2db235897",
   "metadata": {},
   "outputs": [],
   "source": []
  }
 ],
 "metadata": {
  "kernelspec": {
   "display_name": "Python 3 (ipykernel)",
   "language": "python",
   "name": "python3"
  },
  "language_info": {
   "codemirror_mode": {
    "name": "ipython",
    "version": 3
   },
   "file_extension": ".py",
   "mimetype": "text/x-python",
   "name": "python",
   "nbconvert_exporter": "python",
   "pygments_lexer": "ipython3",
   "version": "3.9.19"
  }
 },
 "nbformat": 4,
 "nbformat_minor": 5
}
