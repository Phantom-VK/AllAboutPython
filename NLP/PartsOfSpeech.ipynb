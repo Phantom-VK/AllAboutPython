{
 "cells": [
  {
   "cell_type": "code",
   "execution_count": 3,
   "id": "393b4a8e-8308-4b33-bc52-2c7ec278cb11",
   "metadata": {},
   "outputs": [],
   "source": [
    "## Speech Of DR APJ Abdul Kalam\n",
    "paragraph = \"\"\"I have three visions for India. In 3000 years of our history, people from all over \n",
    "               the world have come and invaded us, captured our lands, conquered our minds. \n",
    "               From Alexander onwards, the Greeks, the Turks, the Moguls, the Portuguese, the British,\n",
    "               the French, the Dutch, all of them came and looted us, took over what was ours. \n",
    "               Yet we have not done this to any other nation. We have not conquered anyone. \n",
    "               We have not grabbed their land, their culture, \n",
    "               their history and tried to enforce our way of life on them. \n",
    "               Why? Because we respect the freedom of others.That is why my \n",
    "               first vision is that of freedom. I believe that India got its first vision of \n",
    "               this in 1857, when we started the War of Independence. It is this freedom that\n",
    "               we must protect and nurture and build on. If we are not free, no one will respect us.\n",
    "               My second vision for India’s development. For fifty years we have been a developing nation.\n",
    "               It is time we see ourselves as a developed nation. We are among the top 5 nations of the world\n",
    "               in terms of GDP. We have a 10 percent growth rate in most areas. Our poverty levels are falling.\n",
    "               Our achievements are being globally recognised today. Yet we lack the self-confidence to\n",
    "               see ourselves as a developed nation, self-reliant and self-assured. Isn’t this incorrect?\n",
    "               I have a third vision. India must stand up to the world. Because I believe that unless India \n",
    "               stands up to the world, no one will respect us. Only strength respects strength. We must be \n",
    "               strong not only as a military power but also as an economic power. Both must go hand-in-hand. \n",
    "               My good fortune was to have worked with three great minds. Dr. Vikram Sarabhai of the Dept. of \n",
    "               space, Professor Satish Dhawan, who succeeded him and Dr. Brahm Prakash, father of nuclear material.\n",
    "               I was lucky to have worked with all three of them closely and consider this the great opportunity of my life. \n",
    "               I see four milestones in my career\"\"\""
   ]
  },
  {
   "cell_type": "code",
   "execution_count": 9,
   "id": "1580c775-90b4-4c18-b8e2-5dbf9ad5e051",
   "metadata": {},
   "outputs": [
    {
     "name": "stderr",
     "output_type": "stream",
     "text": [
      "[nltk_data] Downloading package averaged_perceptron_tagger_eng to\n",
      "[nltk_data]     /home/vikramaditya/nltk_data...\n",
      "[nltk_data]   Unzipping taggers/averaged_perceptron_tagger_eng.zip.\n"
     ]
    }
   ],
   "source": [
    "import nltk\n",
    "nltk.download('averaged_perceptron_tagger_eng')\n",
    "from nltk.tag import pos_tag\n",
    "from nltk.corpus import stopwords"
   ]
  },
  {
   "cell_type": "code",
   "execution_count": 12,
   "id": "33364915-6864-4503-a017-e6ceb0fdf8f0",
   "metadata": {},
   "outputs": [],
   "source": [
    "## WE CAN NOT USE POS TAGS GOT FROM pos_tag DIRECTLY WITH THIS LEMMMATZER, "
   ]
  },
  {
   "cell_type": "code",
   "execution_count": 13,
   "id": "e36735fc-2bda-4771-a800-a29aee04c2c9",
   "metadata": {},
   "outputs": [],
   "source": [
    "## Helper function to get pos tags\n",
    "from nltk.corpus import wordnet\n",
    "\n",
    "def get_wordnet_pos(treebank_tag):\n",
    "    if treebank_tag.startswith('J'):\n",
    "        return wordnet.ADJ\n",
    "    elif treebank_tag.startswith('V'):\n",
    "        return wordnet.VERB\n",
    "    elif treebank_tag.startswith('N'):\n",
    "        return wordnet.NOUN\n",
    "    elif treebank_tag.startswith('R'):\n",
    "        return wordnet.ADV\n",
    "    else:\n",
    "        return wordnet.NOUN  # default to noun\n"
   ]
  },
  {
   "cell_type": "code",
   "execution_count": 18,
   "id": "c037b066-78b0-47af-8fbb-e2ffce90405f",
   "metadata": {},
   "outputs": [
    {
     "data": {
      "text/plain": [
       "'I three vision India .In 3000 year history , people world come invade u , capture land , conquer mind .From Alexander onwards , Greeks , Turks , Moguls , Portuguese , British , French , Dutch , come loot u , take .Yet do nation .We conquer anyone .We grab land , culture , history try enforce way life .Why ?Because respect freedom others.That first vision freedom .I believe India get first vision 1857 , start War Independence .It freedom must protect nurture build .If free , one respect u .My second vision India ’ development .For fifty year develop nation .It time see developed nation .We among top 5 nation world term GDP .We 10 percent growth rate area .Our poverty level fall .Our achievement globally recognise today .Yet lack self-confidence see developed nation , self-reliant self-assured .Isn ’ incorrect ?I third vision .India must stand world .Because I believe unless India stand world , one respect u .Only strength respect strength .We must strong military power also economic power .Both must go hand-in-hand .My good fortune work three great mind .Dr. Vikram Sarabhai Dept .space , Professor Satish Dhawan , succeed Dr. Brahm Prakash , father nuclear material .I lucky work three closely consider great opportunity life .I see four milestone career'"
      ]
     },
     "execution_count": 18,
     "metadata": {},
     "output_type": "execute_result"
    }
   ],
   "source": [
    "## We are getting postags from pos_tag and using inside lemmatizer\n",
    "from nltk.stem import WordNetLemmatizer\n",
    "lemmatizer = WordNetLemmatizer()\n",
    "sentences = nltk.sent_tokenize(paragraph)\n",
    "\n",
    "for i in range(len(sentences)):\n",
    "    words = nltk.word_tokenize(sentences[i])\n",
    "    pos_tagged = nltk.pos_tag(words)\n",
    "    words = []\n",
    "    for word, tag in pos_tagged:\n",
    "        if word not in stopwords.words('english'):\n",
    "            words.append(lemmatizer.lemmatize(word,pos=get_wordnet_pos(tag)))\n",
    "    sentences[i] = \" \".join(words)\n",
    "new_paragraph = \"\".join(sentences)\n",
    "new_paragraph\n"
   ]
  },
  {
   "cell_type": "code",
   "execution_count": null,
   "id": "0a243e02-7981-449f-88b1-a3d572228d18",
   "metadata": {},
   "outputs": [],
   "source": []
  }
 ],
 "metadata": {
  "kernelspec": {
   "display_name": "Python 3 (ipykernel)",
   "language": "python",
   "name": "python3"
  },
  "language_info": {
   "codemirror_mode": {
    "name": "ipython",
    "version": 3
   },
   "file_extension": ".py",
   "mimetype": "text/x-python",
   "name": "python",
   "nbconvert_exporter": "python",
   "pygments_lexer": "ipython3",
   "version": "3.9.19"
  }
 },
 "nbformat": 4,
 "nbformat_minor": 5
}
