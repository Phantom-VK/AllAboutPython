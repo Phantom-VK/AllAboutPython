{
 "cells": [
  {
   "cell_type": "code",
   "execution_count": 5,
   "id": "ffa35172-f40d-469e-beba-72ebd650e838",
   "metadata": {},
   "outputs": [],
   "source": [
    "para = \"\"\"On a rainy Thursday morning in New York, Dr. Emily Roberts, \n",
    "a renowned neuroscientist at Columbia University, delivered a compelling lecture on the future of brain-machine interfaces. \n",
    "She emphasized the ethical implications of artificial intelligence in healthcare. Meanwhile, the audience — a mix of students, \n",
    "researchers, and journalists — listened intently, tweeting live updates. As the storm intensified outside, discussions \n",
    "inside the auditorium grew more thought-provoking. Some attendees questioned whether AI could truly replicate human empathy, \n",
    "while others saw it as an opportunity to enhance medical diagnostics.\"\"\""
   ]
  },
  {
   "cell_type": "code",
   "execution_count": 15,
   "id": "1c515563-7d66-44ed-8055-a1b4d864d10c",
   "metadata": {},
   "outputs": [
    {
     "name": "stderr",
     "output_type": "stream",
     "text": [
      "[nltk_data] Downloading package maxent_ne_chunker to\n",
      "[nltk_data]     /home/vikramaditya/nltk_data...\n",
      "[nltk_data]   Package maxent_ne_chunker is already up-to-date!\n",
      "[nltk_data] Downloading package maxent_ne_chunker_tab to\n",
      "[nltk_data]     /home/vikramaditya/nltk_data...\n",
      "[nltk_data]   Package maxent_ne_chunker_tab is already up-to-date!\n",
      "[nltk_data] Downloading package words to\n",
      "[nltk_data]     /home/vikramaditya/nltk_data...\n",
      "[nltk_data]   Unzipping corpora/words.zip.\n"
     ]
    }
   ],
   "source": [
    "import nltk\n",
    "nltk.download('maxent_ne_chunker')\n",
    "nltk.download('maxent_ne_chunker_tab')\n",
    "nltk.download('words')\n",
    "words = nltk.word_tokenize(para)\n",
    "pos_tagged = nltk.pos_tag(words)"
   ]
  },
  {
   "cell_type": "code",
   "execution_count": 17,
   "id": "ba94ea7f-057b-44d6-b59c-8fde6654f73c",
   "metadata": {},
   "outputs": [],
   "source": [
    "nltk.ne_chunk(tagged_tokens=pos_tagged).draw()"
   ]
  },
  {
   "cell_type": "code",
   "execution_count": null,
   "id": "c19d8b2a-55b3-40b4-b56f-349feb310c8b",
   "metadata": {},
   "outputs": [],
   "source": []
  }
 ],
 "metadata": {
  "kernelspec": {
   "display_name": "Python 3 (ipykernel)",
   "language": "python",
   "name": "python3"
  },
  "language_info": {
   "codemirror_mode": {
    "name": "ipython",
    "version": 3
   },
   "file_extension": ".py",
   "mimetype": "text/x-python",
   "name": "python",
   "nbconvert_exporter": "python",
   "pygments_lexer": "ipython3",
   "version": "3.9.19"
  }
 },
 "nbformat": 4,
 "nbformat_minor": 5
}
