{
 "cells": [
  {
   "cell_type": "code",
   "execution_count": 4,
   "id": "31ef9606-17b4-48c9-bc98-7a41534b4b20",
   "metadata": {},
   "outputs": [],
   "source": [
    "worwords_for_stemming = [\n",
    "    \"running\", \"jumps\", \"easily\", \"flying\", \"happily\", \"faster\", \"cares\",\n",
    "    \"studies\", \"studying\", \"flies\", \"cries\", \"playing\", \"played\", \"player\",\n",
    "    \"eating\", \"eaten\", \"hoped\", \"hoping\", \"singing\", \"sings\", \"bigger\",\n",
    "    \"happier\", \"taller\", \"writing\", \"written\", \"writes\", \"argued\", \"arguing\"\n",
    "]\n",
    " = [\n",
    "    \"running\", \"jumps\", \"easily\", \"flying\", \"happily\", \"faster\", \"cares\",\n",
    "    \"studies\", \"studying\", \"flies\", \"cries\", \"playing\", \"played\", \"player\",\n",
    "    \"eating\", \"eaten\", \"hoped\", \"hoping\", \"singing\", \"sings\", \"bigger\",\n",
    "    \"happier\", \"taller\", \"writing\", \"written\", \"writes\", \"argued\", \"arguing\"\n",
    "]\n"
   ]
  },
  {
   "cell_type": "code",
   "execution_count": null,
   "id": "c182db01-e067-410f-a564-b5e0d39055a7",
   "metadata": {},
   "outputs": [],
   "source": [
    " ## Porterstemmer\n",
    "from nltk.stem import PorterStemmer\n",
    "stemming = PorterStemmer()\n",
    "\n",
    "for word in words:\n",
    "    print(word+\"---->\"+stemming.stem(word))"
   ]
  },
  {
   "cell_type": "markdown",
   "id": "7822c616-cff1-46be-a0be-4ef9a2cefb4d",
   "metadata": {},
   "source": [
    "### RegexpStemmer class\n",
    "NLTK has RegexpStemmer class with the help of which we can easily implement Regular Expression Stemmer algorithms. It basically takes a single regular expression and removes any prefix or suffix that matches the expression. Let us see an example"
   ]
  },
  {
   "cell_type": "code",
   "execution_count": 6,
   "id": "a0b1c219-2db1-4ccc-a486-031d592d2aa4",
   "metadata": {},
   "outputs": [],
   "source": [
    "from nltk.stem import RegexpStemmer"
   ]
  },
  {
   "cell_type": "code",
   "execution_count": 7,
   "id": "4daacac7-d393-4679-ac72-0d3b35121447",
   "metadata": {},
   "outputs": [],
   "source": [
    "reg_stemmer=RegexpStemmer('ing$|s$|e$|able$', min=4)"
   ]
  },
  {
   "cell_type": "code",
   "execution_count": 8,
   "id": "685a34b0-6904-42a6-9fbd-2a91c031270a",
   "metadata": {},
   "outputs": [
    {
     "data": {
      "text/plain": [
       "'eat'"
      ]
     },
     "execution_count": 8,
     "metadata": {},
     "output_type": "execute_result"
    }
   ],
   "source": [
    "reg_stemmer.stem('eating')"
   ]
  },
  {
   "cell_type": "code",
   "execution_count": 9,
   "id": "7b94c02c-89cc-4dec-ac87-b981c64e90c4",
   "metadata": {},
   "outputs": [
    {
     "data": {
      "text/plain": [
       "'ingeat'"
      ]
     },
     "execution_count": 9,
     "metadata": {},
     "output_type": "execute_result"
    }
   ],
   "source": [
    "reg_stemmer.stem('ingeating')"
   ]
  },
  {
   "cell_type": "markdown",
   "id": "cb02112f-3055-4da3-9f3a-6167b7a1eb06",
   "metadata": {},
   "source": [
    "### Snowball Stemmer\n",
    " It is a stemming algorithm which is also known as the Porter2 stemming algorithm as it is a better version of the Porter Stemmer since some issues of it were fixed in this stemmer."
   ]
  },
  {
   "cell_type": "code",
   "execution_count": 10,
   "id": "75ea200b-a5fd-45d0-bc1e-dc4a14241617",
   "metadata": {},
   "outputs": [],
   "source": [
    "from nltk.stem import SnowballStemmer"
   ]
  },
  {
   "cell_type": "code",
   "execution_count": 11,
   "id": "5769a578-d5de-4eaa-b516-787bfb48b7bd",
   "metadata": {},
   "outputs": [],
   "source": [
    "snowballsstemmer=SnowballStemmer('english')"
   ]
  },
  {
   "cell_type": "code",
   "execution_count": 13,
   "id": "065d8c01-2e37-4ca3-8280-2472023ac604",
   "metadata": {},
   "outputs": [
    {
     "name": "stdout",
     "output_type": "stream",
     "text": [
      "running---->run\n",
      "jumps---->jump\n",
      "easily---->easili\n",
      "flying---->fli\n",
      "happily---->happili\n",
      "faster---->faster\n",
      "cares---->care\n",
      "studies---->studi\n",
      "studying---->studi\n",
      "flies---->fli\n",
      "cries---->cri\n",
      "playing---->play\n",
      "played---->play\n",
      "player---->player\n",
      "eating---->eat\n",
      "eaten---->eaten\n",
      "hoped---->hope\n",
      "hoping---->hope\n",
      "singing---->sing\n",
      "sings---->sing\n",
      "bigger---->bigger\n",
      "happier---->happier\n",
      "taller---->taller\n",
      "writing---->write\n",
      "written---->written\n",
      "writes---->write\n",
      "argued---->argu\n",
      "arguing---->argu\n"
     ]
    }
   ],
   "source": [
    "for word in words:\n",
    "    print(word+\"---->\"+snowballsstemmer.stem(word))"
   ]
  },
  {
   "cell_type": "code",
   "execution_count": 14,
   "id": "7b76de51-dc10-426e-b227-ef98f777c183",
   "metadata": {},
   "outputs": [
    {
     "data": {
      "text/plain": [
       "('fairli', 'sportingli')"
      ]
     },
     "execution_count": 14,
     "metadata": {},
     "output_type": "execute_result"
    }
   ],
   "source": [
    "stemming.stem(\"fairly\"),stemming.stem(\"sportingly\")"
   ]
  },
  {
   "cell_type": "code",
   "execution_count": 15,
   "id": "a30e2ccb-18ef-4dfd-a7fd-ff5320682c8a",
   "metadata": {},
   "outputs": [
    {
     "data": {
      "text/plain": [
       "('fair', 'sport')"
      ]
     },
     "execution_count": 15,
     "metadata": {},
     "output_type": "execute_result"
    }
   ],
   "source": [
    "snowballsstemmer.stem(\"fairly\"),snowballsstemmer.stem(\"sportingly\")"
   ]
  },
  {
   "cell_type": "code",
   "execution_count": 16,
   "id": "08a26d81-b97d-4834-bc82-2dc2fe953ddf",
   "metadata": {},
   "outputs": [
    {
     "data": {
      "text/plain": [
       "'goe'"
      ]
     },
     "execution_count": 16,
     "metadata": {},
     "output_type": "execute_result"
    }
   ],
   "source": [
    "snowballsstemmer.stem('goes')"
   ]
  },
  {
   "cell_type": "code",
   "execution_count": 17,
   "id": "6f940f3f-096c-4cd2-91ab-ebfe2a17fe68",
   "metadata": {},
   "outputs": [
    {
     "data": {
      "text/plain": [
       "'goe'"
      ]
     },
     "execution_count": 17,
     "metadata": {},
     "output_type": "execute_result"
    }
   ],
   "source": [
    "stemming.stem('goes')"
   ]
  },
  {
   "cell_type": "code",
   "execution_count": null,
   "id": "09b5da4a-95d6-4209-9d54-267923fde846",
   "metadata": {},
   "outputs": [],
   "source": []
  }
 ],
 "metadata": {
  "kernelspec": {
   "display_name": "Python 3 (ipykernel)",
   "language": "python",
   "name": "python3"
  },
  "language_info": {
   "codemirror_mode": {
    "name": "ipython",
    "version": 3
   },
   "file_extension": ".py",
   "mimetype": "text/x-python",
   "name": "python",
   "nbconvert_exporter": "python",
   "pygments_lexer": "ipython3",
   "version": "3.9.19"
  }
 },
 "nbformat": 4,
 "nbformat_minor": 5
}
